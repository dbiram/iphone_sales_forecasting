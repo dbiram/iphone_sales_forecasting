{
 "cells": [
  {
   "cell_type": "code",
   "execution_count": 3,
   "id": "dfe6c3a6",
   "metadata": {},
   "outputs": [],
   "source": [
    "import pandas as pd \n",
    "import numpy as np\n",
    "from datetime import datetime\n",
    "import matplotlib.pyplot as plt\n",
    "import seaborn as sns\n",
    "import plotly.express as px\n",
    "\n",
    "pd.set_option('display.max_columns', None)\n",
    "sns.set(style=\"whitegrid\")"
   ]
  },
  {
   "cell_type": "code",
   "execution_count": 6,
   "id": "56ed273a",
   "metadata": {},
   "outputs": [
    {
     "data": {
      "text/html": [
       "<div>\n",
       "<style scoped>\n",
       "    .dataframe tbody tr th:only-of-type {\n",
       "        vertical-align: middle;\n",
       "    }\n",
       "\n",
       "    .dataframe tbody tr th {\n",
       "        vertical-align: top;\n",
       "    }\n",
       "\n",
       "    .dataframe thead th {\n",
       "        text-align: right;\n",
       "    }\n",
       "</style>\n",
       "<table border=\"1\" class=\"dataframe\">\n",
       "  <thead>\n",
       "    <tr style=\"text-align: right;\">\n",
       "      <th></th>\n",
       "      <th>SEMAINE</th>\n",
       "      <th>BASIC_MODEL_NAME</th>\n",
       "      <th>DATE_LANCEMENT</th>\n",
       "      <th>NOMBRE_CMD</th>\n",
       "      <th>ANCIENNETE_MODELE</th>\n",
       "      <th>PRIX_DE_DETAIL</th>\n",
       "      <th>RABAIS</th>\n",
       "      <th>NOMBRE_CLIENT_FIN_CONTRAT</th>\n",
       "      <th>CROIS_BYOD</th>\n",
       "      <th>SEMAINE_NUM</th>\n",
       "      <th>Fct_CROIS</th>\n",
       "    </tr>\n",
       "  </thead>\n",
       "  <tbody>\n",
       "    <tr>\n",
       "      <th>0</th>\n",
       "      <td>2022-11-12T00:00:00Z</td>\n",
       "      <td>IPHONE 12</td>\n",
       "      <td>2020-10-16T00:00:00Z</td>\n",
       "      <td>85</td>\n",
       "      <td>2</td>\n",
       "      <td>882.0</td>\n",
       "      <td>0</td>\n",
       "      <td>115.0</td>\n",
       "      <td>0.2</td>\n",
       "      <td>1</td>\n",
       "      <td>NaN</td>\n",
       "    </tr>\n",
       "    <tr>\n",
       "      <th>1</th>\n",
       "      <td>2022-11-12T00:00:00Z</td>\n",
       "      <td>IPHONE 13</td>\n",
       "      <td>2021-09-17T00:00:00Z</td>\n",
       "      <td>3704</td>\n",
       "      <td>1</td>\n",
       "      <td>1071.0</td>\n",
       "      <td>1</td>\n",
       "      <td>83.0</td>\n",
       "      <td>0.2</td>\n",
       "      <td>1</td>\n",
       "      <td>NaN</td>\n",
       "    </tr>\n",
       "    <tr>\n",
       "      <th>2</th>\n",
       "      <td>2022-11-12T00:00:00Z</td>\n",
       "      <td>IPHONE 14</td>\n",
       "      <td>2022-09-16T00:00:00Z</td>\n",
       "      <td>289</td>\n",
       "      <td>0</td>\n",
       "      <td>1173.0</td>\n",
       "      <td>0</td>\n",
       "      <td>125.0</td>\n",
       "      <td>0.2</td>\n",
       "      <td>1</td>\n",
       "      <td>NaN</td>\n",
       "    </tr>\n",
       "    <tr>\n",
       "      <th>3</th>\n",
       "      <td>2022-11-19T00:00:00Z</td>\n",
       "      <td>IPHONE 12</td>\n",
       "      <td>2020-10-16T00:00:00Z</td>\n",
       "      <td>58</td>\n",
       "      <td>2</td>\n",
       "      <td>882.0</td>\n",
       "      <td>0</td>\n",
       "      <td>140.0</td>\n",
       "      <td>0.2</td>\n",
       "      <td>2</td>\n",
       "      <td>NaN</td>\n",
       "    </tr>\n",
       "    <tr>\n",
       "      <th>4</th>\n",
       "      <td>2022-11-19T00:00:00Z</td>\n",
       "      <td>IPHONE 13</td>\n",
       "      <td>2021-09-17T00:00:00Z</td>\n",
       "      <td>6593</td>\n",
       "      <td>1</td>\n",
       "      <td>1071.0</td>\n",
       "      <td>1</td>\n",
       "      <td>50.0</td>\n",
       "      <td>0.2</td>\n",
       "      <td>2</td>\n",
       "      <td>NaN</td>\n",
       "    </tr>\n",
       "  </tbody>\n",
       "</table>\n",
       "</div>"
      ],
      "text/plain": [
       "                SEMAINE BASIC_MODEL_NAME        DATE_LANCEMENT  NOMBRE_CMD  \\\n",
       "0  2022-11-12T00:00:00Z        IPHONE 12  2020-10-16T00:00:00Z          85   \n",
       "1  2022-11-12T00:00:00Z        IPHONE 13  2021-09-17T00:00:00Z        3704   \n",
       "2  2022-11-12T00:00:00Z        IPHONE 14  2022-09-16T00:00:00Z         289   \n",
       "3  2022-11-19T00:00:00Z        IPHONE 12  2020-10-16T00:00:00Z          58   \n",
       "4  2022-11-19T00:00:00Z        IPHONE 13  2021-09-17T00:00:00Z        6593   \n",
       "\n",
       "   ANCIENNETE_MODELE  PRIX_DE_DETAIL  RABAIS  NOMBRE_CLIENT_FIN_CONTRAT  \\\n",
       "0                  2           882.0       0                      115.0   \n",
       "1                  1          1071.0       1                       83.0   \n",
       "2                  0          1173.0       0                      125.0   \n",
       "3                  2           882.0       0                      140.0   \n",
       "4                  1          1071.0       1                       50.0   \n",
       "\n",
       "   CROIS_BYOD  SEMAINE_NUM  Fct_CROIS  \n",
       "0         0.2            1        NaN  \n",
       "1         0.2            1        NaN  \n",
       "2         0.2            1        NaN  \n",
       "3         0.2            2        NaN  \n",
       "4         0.2            2        NaN  "
      ]
     },
     "execution_count": 6,
     "metadata": {},
     "output_type": "execute_result"
    }
   ],
   "source": [
    "df = pd.read_csv(\"../data/Iphone_Sales.csv\")\n",
    "df.head()"
   ]
  },
  {
   "cell_type": "code",
   "execution_count": 7,
   "id": "2e91cca4",
   "metadata": {},
   "outputs": [
    {
     "name": "stdout",
     "output_type": "stream",
     "text": [
      "Shape: (375, 11)\n",
      "\n",
      "Columns: ['SEMAINE', 'BASIC_MODEL_NAME', 'DATE_LANCEMENT', 'NOMBRE_CMD', 'ANCIENNETE_MODELE', 'PRIX_DE_DETAIL', 'RABAIS', 'NOMBRE_CLIENT_FIN_CONTRAT', 'CROIS_BYOD', 'SEMAINE_NUM', 'Fct_CROIS']\n"
     ]
    }
   ],
   "source": [
    "print(\"Shape:\", df.shape)\n",
    "print(\"\\nColumns:\", df.columns.tolist())"
   ]
  },
  {
   "cell_type": "code",
   "execution_count": 8,
   "id": "088d81e6",
   "metadata": {},
   "outputs": [
    {
     "data": {
      "text/plain": [
       "SEMAINE                       object\n",
       "BASIC_MODEL_NAME              object\n",
       "DATE_LANCEMENT                object\n",
       "NOMBRE_CMD                     int64\n",
       "ANCIENNETE_MODELE              int64\n",
       "PRIX_DE_DETAIL               float64\n",
       "RABAIS                         int64\n",
       "NOMBRE_CLIENT_FIN_CONTRAT    float64\n",
       "CROIS_BYOD                   float64\n",
       "SEMAINE_NUM                    int64\n",
       "Fct_CROIS                    float64\n",
       "dtype: object"
      ]
     },
     "execution_count": 8,
     "metadata": {},
     "output_type": "execute_result"
    }
   ],
   "source": [
    "df.dtypes"
   ]
  },
  {
   "cell_type": "code",
   "execution_count": 9,
   "id": "80244ab1",
   "metadata": {},
   "outputs": [
    {
     "data": {
      "text/plain": [
       "Fct_CROIS\n",
       "0.053097    2\n",
       "2.955017    1\n",
       "3.275862    1\n",
       "0.060215    1\n",
       "0.221933    1\n",
       "           ..\n",
       "0.378286    1\n",
       "1.027027    1\n",
       "0.660754    1\n",
       "1.064403    1\n",
       "0.121760    1\n",
       "Name: count, Length: 268, dtype: int64"
      ]
     },
     "execution_count": 9,
     "metadata": {},
     "output_type": "execute_result"
    }
   ],
   "source": [
    "df.Fct_CROIS.value_counts()"
   ]
  },
  {
   "cell_type": "markdown",
   "id": "58fa2d73",
   "metadata": {},
   "source": [
    "## Forecasting Setup\n",
    "\n",
    "- **Target**: Weekly sales volume (`NOMBRE_CMD`)\n",
    "- **Granularity**: Weekly, per iPhone model `BASIC_MODEL_NAME` \n",
    "- **Forecast Horizon**: 8 weeks\n",
    "- **Frequency**: Weekly\n",
    "- **Features to engineer**:\n",
    "  - Lagged sales (t-1, t-2, t-7)\n",
    "  - Rolling averages (last 3–4 weeks)\n",
    "  - Seasonality (week number, month)\n",
    "  - Promotion flags\n",
    "  - Time since product launch `ANCIENNETE_MODELE`\n",
    "\n",
    "---\n",
    "\n",
    "## Metrics\n",
    "\n",
    "We'll evaluate using:\n",
    "- **MAPE** (Mean Absolute Percentage Error)\n",
    "- **WAPE** (Weighted Absolute Percentage Error)\n",
    "- **RMSE** (Root Mean Square Error)\n",
    "\n",
    "We will report metrics:\n",
    "- Globally (all models)\n",
    "- Per iPhone model\n",
    "- For short (1–2 week) and long (8 week) horizons"
   ]
  },
  {
   "cell_type": "code",
   "execution_count": 10,
   "id": "eb2bea8c",
   "metadata": {},
   "outputs": [],
   "source": [
    "df.rename(columns={\n",
    "    \"NOMBRE_CMD\": \"sales\",\n",
    "    \"BASIC_MODEL_NAME\": \"model\",\n",
    "    \"SEMAINE\": \"week_id\",\n",
    "}, inplace=True)"
   ]
  },
  {
   "cell_type": "code",
   "execution_count": 11,
   "id": "0d956e6b",
   "metadata": {},
   "outputs": [
    {
     "name": "stdout",
     "output_type": "stream",
     "text": [
      "Number of unique iPhone models: 5\n"
     ]
    },
    {
     "data": {
      "text/plain": [
       "model\n",
       "IPHONE 14    119\n",
       "IPHONE 13    106\n",
       "IPHONE 15     76\n",
       "IPHONE 12     50\n",
       "IPHONE 16     24\n",
       "Name: count, dtype: int64"
      ]
     },
     "execution_count": 11,
     "metadata": {},
     "output_type": "execute_result"
    }
   ],
   "source": [
    "print(\"Number of unique iPhone models:\", df[\"model\"].nunique())\n",
    "df[\"model\"].value_counts().head()"
   ]
  },
  {
   "cell_type": "code",
   "execution_count": 13,
   "id": "d0145711",
   "metadata": {},
   "outputs": [
    {
     "data": {
      "text/plain": [
       "0        1\n",
       "1        1\n",
       "2        1\n",
       "3        2\n",
       "4        2\n",
       "      ... \n",
       "370    118\n",
       "371    118\n",
       "372    119\n",
       "373    119\n",
       "374    119\n",
       "Name: SEMAINE_NUM, Length: 375, dtype: int64"
      ]
     },
     "execution_count": 13,
     "metadata": {},
     "output_type": "execute_result"
    }
   ],
   "source": [
    "df.SEMAINE_NUM"
   ]
  },
  {
   "cell_type": "code",
   "execution_count": null,
   "id": "1358d6e9",
   "metadata": {},
   "outputs": [],
   "source": []
  }
 ],
 "metadata": {
  "kernelspec": {
   "display_name": ".venv",
   "language": "python",
   "name": "python3"
  },
  "language_info": {
   "codemirror_mode": {
    "name": "ipython",
    "version": 3
   },
   "file_extension": ".py",
   "mimetype": "text/x-python",
   "name": "python",
   "nbconvert_exporter": "python",
   "pygments_lexer": "ipython3",
   "version": "3.13.4"
  }
 },
 "nbformat": 4,
 "nbformat_minor": 5
}
